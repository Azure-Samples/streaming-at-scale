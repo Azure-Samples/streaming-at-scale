{
  "cells": [
    {
      "cell_type": "code",
      "execution_count": 6,
      "metadata": {
        "jupyter": {
          "outputs_hidden": false,
          "source_hidden": false
        },
        "nteract": {
          "transient": {
            "deleting": false
          }
        },
        "tags": [
          "parameters"
        ]
      },
      "outputs": [
        {
          "data": {
            "application/vnd.livy.statement-meta+json": {
              "execution_finish_time": "2022-06-08T21:07:44.5770093Z",
              "execution_start_time": "2022-06-08T21:07:44.4253187Z",
              "livy_statement_state": "available",
              "queued_time": "2022-06-08T21:07:44.2907569Z",
              "session_id": 71,
              "session_start_time": null,
              "spark_pool": "sasesssparkpool",
              "state": "finished",
              "statement_id": 7
            },
            "text/plain": [
              "StatementMeta(sasesssparkpool, 71, 7, Finished, Available)"
            ]
          },
          "metadata": {},
          "output_type": "display_data"
        }
      ],
      "source": [
        "# This is a parameter and will be overridden\n",
        "folder_path = ''"
      ]
    },
    {
      "cell_type": "code",
      "execution_count": 7,
      "metadata": {
        "jupyter": {
          "outputs_hidden": false,
          "source_hidden": false
        },
        "nteract": {
          "transient": {
            "deleting": false
          }
        }
      },
      "outputs": [
        {
          "data": {
            "application/vnd.livy.statement-meta+json": {
              "execution_finish_time": "2022-06-08T21:07:45.4814647Z",
              "execution_start_time": "2022-06-08T21:07:45.3440101Z",
              "livy_statement_state": "available",
              "queued_time": "2022-06-08T21:07:45.2264575Z",
              "session_id": 71,
              "session_start_time": null,
              "spark_pool": "sasesssparkpool",
              "state": "finished",
              "statement_id": 8
            },
            "text/plain": [
              "StatementMeta(sasesssparkpool, 71, 8, Finished, Available)"
            ]
          },
          "metadata": {},
          "output_type": "display_data"
        },
        {
          "name": "stdout",
          "output_type": "stream",
          "text": [
            "/capture/ktsas18eventhubs/streamingatscale-2"
          ]
        }
      ],
      "source": [
        "# Removing the container name from the folder path\n",
        "\n",
        "first_slash_index = folder_path.index('/')\n",
        "folder_path = folder_path[first_slash_index:]"
      ]
    },
    {
      "cell_type": "code",
      "execution_count": 8,
      "metadata": {},
      "outputs": [
        {
          "data": {
            "application/vnd.livy.statement-meta+json": {
              "execution_finish_time": "2022-06-08T18:13:22.3482072Z",
              "execution_start_time": "2022-06-08T18:13:22.1866939Z",
              "livy_statement_state": "available",
              "queued_time": "2022-06-08T18:12:41.638304Z",
              "session_id": 11,
              "session_start_time": "2022-06-08T18:12:41.6827372Z",
              "spark_pool": "sasesssparkpool",
              "state": "finished",
              "statement_id": 1
            },
            "text/plain": [
              "StatementMeta(sasesssparkpool, 11, 1, Finished, Available)"
            ]
          },
          "metadata": {},
          "output_type": "display_data"
        }
      ],
      "source": [
        "from delta.tables import DeltaTable\n",
        "import os\n",
        "from pyspark.sql.functions import col\n",
        "import pyspark.sql.types as T\n",
        "import pyspark.sql.functions as F"
      ]
    },
    {
      "cell_type": "code",
      "execution_count": 9,
      "metadata": {
        "jupyter": {
          "outputs_hidden": false,
          "source_hidden": false
        },
        "nteract": {
          "transient": {
            "deleting": false
          }
        }
      },
      "outputs": [
        {
          "data": {
            "application/vnd.livy.statement-meta+json": {
              "execution_finish_time": "2022-06-08T18:13:38.6076527Z",
              "execution_start_time": "2022-06-08T18:13:38.45209Z",
              "livy_statement_state": "available",
              "queued_time": "2022-06-08T18:13:38.2740748Z",
              "session_id": 11,
              "session_start_time": null,
              "spark_pool": "sasesssparkpool",
              "state": "finished",
              "statement_id": 2
            },
            "text/plain": [
              "StatementMeta(sasesssparkpool, 11, 2, Finished, Available)"
            ]
          },
          "metadata": {},
          "output_type": "display_data"
        }
      ],
      "source": [
        "schema = T.StructType(\n",
        "    [\n",
        "        T.StructField('SequenceNumber', T.LongType(), False),\n",
        "        T.StructField('Offset', T.StringType(), False),\n",
        "        T.StructField('EnqueuedTimeUtc', T.StringType()),\n",
        "        T.StructField('SystemProperties', T.MapType(T.StringType(), T.StructType([\n",
        "            T.StructField('member0', T.LongType()),\n",
        "            T.StructField('member1', T.DoubleType()),\n",
        "            T.StructField('member2', T.StringType()),\n",
        "            T.StructField('member3', T.BinaryType()),\n",
        "        ]))),\n",
        "        T.StructField('Properties', T.MapType(T.StringType(), T.StructType([\n",
        "            T.StructField('member0', T.LongType()),\n",
        "            T.StructField('member1', T.DoubleType()),\n",
        "            T.StructField('member2', T.StringType()),\n",
        "            T.StructField('member3', T.BinaryType()),\n",
        "        ]))),\n",
        "        T.StructField('Body', T.BinaryType())\n",
        "    ]\n",
        ")"
      ]
    },
    {
      "cell_type": "code",
      "execution_count": 10,
      "metadata": {
        "jupyter": {
          "outputs_hidden": false,
          "source_hidden": false
        },
        "nteract": {
          "transient": {
            "deleting": false
          }
        }
      },
      "outputs": [
        {
          "data": {
            "application/vnd.livy.statement-meta+json": {
              "execution_finish_time": "2022-06-08T18:13:39.9379185Z",
              "execution_start_time": "2022-06-08T18:13:39.7945934Z",
              "livy_statement_state": "available",
              "queued_time": "2022-06-08T18:13:39.6814441Z",
              "session_id": 11,
              "session_start_time": null,
              "spark_pool": "sasesssparkpool",
              "state": "finished",
              "statement_id": 3
            },
            "text/plain": [
              "StatementMeta(sasesssparkpool, 11, 3, Finished, Available)"
            ]
          },
          "metadata": {},
          "output_type": "display_data"
        }
      ],
      "source": [
        "bodySchema = T.StructType([\n",
        "    T.StructField(\"eventId\", T.StringType(), False),\n",
        "    T.StructField(\"complexData\", T.StructType([ T.StructField(f\"moreData{i}\", T.DoubleType(), False) for i in range(22) ])),\n",
        "    T.StructField(\"value\", T.StringType(), False),\n",
        "    T.StructField(\"type\", T.StringType(), False),\n",
        "    T.StructField(\"deviceId\", T.StringType(), False),\n",
        "    T.StructField(\"deviceSequenceNumber\", T.LongType(), False),\n",
        "    T.StructField(\"createdAt\", T.TimestampType(), False)\n",
        "])"
      ]
    },
    {
      "cell_type": "code",
      "execution_count": 11,
      "metadata": {
        "jupyter": {
          "outputs_hidden": false,
          "source_hidden": false
        },
        "nteract": {
          "transient": {
            "deleting": false
          }
        }
      },
      "outputs": [
        {
          "data": {
            "application/vnd.livy.statement-meta+json": {
              "execution_finish_time": "2022-06-08T18:13:49.4486572Z",
              "execution_start_time": "2022-06-08T18:13:40.8426865Z",
              "livy_statement_state": "available",
              "queued_time": "2022-06-08T18:13:40.6816104Z",
              "session_id": 11,
              "session_start_time": null,
              "spark_pool": "sasesssparkpool",
              "state": "finished",
              "statement_id": 4
            },
            "text/plain": [
              "StatementMeta(sasesssparkpool, 11, 4, Finished, Available)"
            ]
          },
          "metadata": {},
          "output_type": "display_data"
        },
        {
          "data": {
            "text/plain": [
              "<pyspark.sql.streaming.StreamingQuery at 0x7fa3bcdf8f28>"
            ]
          },
          "metadata": {},
          "output_type": "display_data"
        }
      ],
      "source": [
        "stream_df = spark \\\n",
        "    .readStream \\\n",
        "    .schema(schema) \\\n",
        "    .format('avro') \\\n",
        "    .load(folder_path)\n",
        "\n",
        "normalized_df = stream_df \\\n",
        "        .withColumn('storedAt', F.current_timestamp()) \\\n",
        "        .withColumn('enqueuedAt', F.to_timestamp('EnqueuedTimeUtc', 'M/d/y h:mm:ss a')) \\\n",
        "        .withColumn('Body', F.from_json(F.decode('Body', 'UTF-8'), bodySchema)) \\\n",
        "        .select(col('Body.*'), 'storedAt', 'enqueuedAt')\n",
        "\n",
        "schema_location = '/datalake'\n",
        "table_name = 'normalized.device'\n",
        "output_path = os.path.join(schema_location, 'normalized', 'streaming_device')\n",
        "checkpoint_path = os.path.join(schema_location, 'checkpoint', 'streaming_device')\n",
        "\n",
        "result = normalized_df \\\n",
        "    .writeStream \\\n",
        "    .outputMode(\"append\") \\\n",
        "    .format('delta') \\\n",
        "    .option('path', output_path) \\\n",
        "    .option(\"checkpointLocation\", checkpoint_path) \\\n",
        "    .trigger(once=True) \\\n",
        "    .start()\n",
        "\n",
        "result.awaitTermination()"
      ]
    }
  ],
  "metadata": {
    "description": null,
    "kernel_info": {
      "name": "synapse_pyspark"
    },
    "kernelspec": {
      "display_name": "Synapse PySpark",
      "language": "Python",
      "name": "synapse_pyspark"
    },
    "language_info": {
      "name": "python"
    },
    "save_output": true,
    "synapse_widget": {
      "state": {},
      "version": "0.1"
    }
  },
  "nbformat": 4,
  "nbformat_minor": 2
}
