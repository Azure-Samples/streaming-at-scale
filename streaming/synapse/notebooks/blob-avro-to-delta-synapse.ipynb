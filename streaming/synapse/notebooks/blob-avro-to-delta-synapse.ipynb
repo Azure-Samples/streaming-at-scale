{
  "cells": [
    {
      "cell_type": "code",
      "source": [
        "folder_path = 'streamingatscale/capture/ktsas18eventhubs/streamingatscale-2'"
      ],
      "outputs": [
        {
          "output_type": "display_data",
          "data": {
            "application/vnd.livy.statement-meta+json": {
              "spark_pool": "sasesssparkpool",
              "session_id": 71,
              "statement_id": 7,
              "state": "finished",
              "livy_statement_state": "available",
              "queued_time": "2022-06-08T21:07:44.2907569Z",
              "session_start_time": null,
              "execution_start_time": "2022-06-08T21:07:44.4253187Z",
              "execution_finish_time": "2022-06-08T21:07:44.5770093Z"
            },
            "text/plain": "StatementMeta(sasesssparkpool, 71, 7, Finished, Available)"
          },
          "metadata": {}
        }
      ],
      "execution_count": 6,
      "metadata": {
        "jupyter": {
          "source_hidden": false,
          "outputs_hidden": false
        },
        "nteract": {
          "transient": {
            "deleting": false
          }
        },
        "tags": [
          "parameters"
        ]
      }
    },
    {
      "cell_type": "code",
      "source": [
        "# Removing the container name from the folder path\r\n",
        "\r\n",
        "first_slash_index = folder_path.index('/')\r\n",
        "folder_path = folder_path[first_slash_index:]"
      ],
      "outputs": [
        {
          "output_type": "display_data",
          "data": {
            "application/vnd.livy.statement-meta+json": {
              "spark_pool": "sasesssparkpool",
              "session_id": 71,
              "statement_id": 8,
              "state": "finished",
              "livy_statement_state": "available",
              "queued_time": "2022-06-08T21:07:45.2264575Z",
              "session_start_time": null,
              "execution_start_time": "2022-06-08T21:07:45.3440101Z",
              "execution_finish_time": "2022-06-08T21:07:45.4814647Z"
            },
            "text/plain": "StatementMeta(sasesssparkpool, 71, 8, Finished, Available)"
          },
          "metadata": {}
        },
        {
          "output_type": "stream",
          "name": "stdout",
          "text": [
            "/capture/ktsas18eventhubs/streamingatscale-2"
          ]
        }
      ],
      "execution_count": 7,
      "metadata": {
        "jupyter": {
          "source_hidden": false,
          "outputs_hidden": false
        },
        "nteract": {
          "transient": {
            "deleting": false
          }
        }
      }
    },
    {
      "cell_type": "code",
      "source": [
        "from delta.tables import DeltaTable\r\n",
        "import os\r\n",
        "from pyspark.sql.functions import col\r\n",
        "import pyspark.sql.types as T\r\n",
        "import pyspark.sql.functions as F"
      ],
      "outputs": [
        {
          "output_type": "display_data",
          "data": {
            "application/vnd.livy.statement-meta+json": {
              "spark_pool": "sasesssparkpool",
              "session_id": 11,
              "statement_id": 1,
              "state": "finished",
              "livy_statement_state": "available",
              "queued_time": "2022-06-08T18:12:41.638304Z",
              "session_start_time": "2022-06-08T18:12:41.6827372Z",
              "execution_start_time": "2022-06-08T18:13:22.1866939Z",
              "execution_finish_time": "2022-06-08T18:13:22.3482072Z"
            },
            "text/plain": "StatementMeta(sasesssparkpool, 11, 1, Finished, Available)"
          },
          "metadata": {}
        }
      ],
      "execution_count": 8,
      "metadata": {}
    },
    {
      "cell_type": "code",
      "source": [
        "schema = T.StructType(\r\n",
        "    [\r\n",
        "        T.StructField('SequenceNumber', T.LongType(), False),\r\n",
        "        T.StructField('Offset', T.StringType(), False),\r\n",
        "        T.StructField('EnqueuedTimeUtc', T.StringType()),\r\n",
        "        T.StructField('SystemProperties', T.MapType(T.StringType(), T.StructType([\r\n",
        "            T.StructField('member0', T.LongType()),\r\n",
        "            T.StructField('member1', T.DoubleType()),\r\n",
        "            T.StructField('member2', T.StringType()),\r\n",
        "            T.StructField('member3', T.BinaryType()),\r\n",
        "        ]))),\r\n",
        "        T.StructField('Properties', T.MapType(T.StringType(), T.StructType([\r\n",
        "            T.StructField('member0', T.LongType()),\r\n",
        "            T.StructField('member1', T.DoubleType()),\r\n",
        "            T.StructField('member2', T.StringType()),\r\n",
        "            T.StructField('member3', T.BinaryType()),\r\n",
        "        ]))),\r\n",
        "        T.StructField('Body', T.BinaryType()),\r\n",
        "        T.StructField('date', T.DateType()),\r\n",
        "        T.StructField('hour', T.IntegerType()),\r\n",
        "    ]\r\n",
        ")"
      ],
      "outputs": [
        {
          "output_type": "display_data",
          "data": {
            "application/vnd.livy.statement-meta+json": {
              "spark_pool": "sasesssparkpool",
              "session_id": 11,
              "statement_id": 2,
              "state": "finished",
              "livy_statement_state": "available",
              "queued_time": "2022-06-08T18:13:38.2740748Z",
              "session_start_time": null,
              "execution_start_time": "2022-06-08T18:13:38.45209Z",
              "execution_finish_time": "2022-06-08T18:13:38.6076527Z"
            },
            "text/plain": "StatementMeta(sasesssparkpool, 11, 2, Finished, Available)"
          },
          "metadata": {}
        }
      ],
      "execution_count": 9,
      "metadata": {
        "jupyter": {
          "source_hidden": false,
          "outputs_hidden": false
        },
        "nteract": {
          "transient": {
            "deleting": false
          }
        }
      }
    },
    {
      "cell_type": "code",
      "source": [
        "bodySchema = T.StructType([\r\n",
        "    T.StructField(\"eventId\", T.StringType(), False),\r\n",
        "    T.StructField(\"complexData\", T.StructType([ T.StructField(f\"moreData{i}\", T.DoubleType(), False) for i in range(22) ])),\r\n",
        "    T.StructField(\"value\", T.StringType(), False),\r\n",
        "    T.StructField(\"type\", T.StringType(), False),\r\n",
        "    T.StructField(\"deviceId\", T.StringType(), False),\r\n",
        "    T.StructField(\"deviceSequenceNumber\", T.LongType(), False),\r\n",
        "    T.StructField(\"createdAt\", T.TimestampType(), False)\r\n",
        "])"
      ],
      "outputs": [
        {
          "output_type": "display_data",
          "data": {
            "application/vnd.livy.statement-meta+json": {
              "spark_pool": "sasesssparkpool",
              "session_id": 11,
              "statement_id": 3,
              "state": "finished",
              "livy_statement_state": "available",
              "queued_time": "2022-06-08T18:13:39.6814441Z",
              "session_start_time": null,
              "execution_start_time": "2022-06-08T18:13:39.7945934Z",
              "execution_finish_time": "2022-06-08T18:13:39.9379185Z"
            },
            "text/plain": "StatementMeta(sasesssparkpool, 11, 3, Finished, Available)"
          },
          "metadata": {}
        }
      ],
      "execution_count": 10,
      "metadata": {
        "jupyter": {
          "source_hidden": false,
          "outputs_hidden": false
        },
        "nteract": {
          "transient": {
            "deleting": false
          }
        }
      }
    },
    {
      "cell_type": "code",
      "source": [
        "stream_df = read_stream = spark \\\r\n",
        "    .readStream \\\r\n",
        "    .schema(schema) \\\r\n",
        "    .format('avro') \\\r\n",
        "    .load(folder_path)\r\n",
        "\r\n",
        "normalized_df = stream_df \\\r\n",
        "        .withColumn('storedAt', F.current_timestamp()) \\\r\n",
        "        .withColumn('enqueuedAt', F.to_timestamp('EnqueuedTimeUtc', 'M/d/y h:mm:ss a')) \\\r\n",
        "        .withColumn('Body', F.from_json(F.decode('Body', 'UTF-8'), bodySchema)) \\\r\n",
        "        .select(col('Body.*'), 'storedAt', 'enqueuedAt')\r\n",
        "\r\n",
        "schema_location = '/datalake'\r\n",
        "table_name = 'normalized.device'\r\n",
        "output_path = os.path.join(schema_location, 'normalized', 'streaming_device')\r\n",
        "checkpoint_path = os.path.join(schema_location, 'checkpoint', 'streaming_device_test')\r\n",
        "normalized_df \\\r\n",
        "    .writeStream \\\r\n",
        "    .outputMode(\"append\") \\\r\n",
        "    .format('delta') \\\r\n",
        "    .option('path', output_path) \\\r\n",
        "    .option(\"checkpointLocation\", checkpoint_path) \\\r\n",
        "    .trigger(once=True) \\\r\n",
        "    .start()"
      ],
      "outputs": [
        {
          "output_type": "display_data",
          "data": {
            "application/vnd.livy.statement-meta+json": {
              "spark_pool": "sasesssparkpool",
              "session_id": 11,
              "statement_id": 4,
              "state": "finished",
              "livy_statement_state": "available",
              "queued_time": "2022-06-08T18:13:40.6816104Z",
              "session_start_time": null,
              "execution_start_time": "2022-06-08T18:13:40.8426865Z",
              "execution_finish_time": "2022-06-08T18:13:49.4486572Z"
            },
            "text/plain": "StatementMeta(sasesssparkpool, 11, 4, Finished, Available)"
          },
          "metadata": {}
        },
        {
          "output_type": "display_data",
          "data": {
            "text/plain": "<pyspark.sql.streaming.StreamingQuery at 0x7fa3bcdf8f28>"
          },
          "metadata": {}
        }
      ],
      "execution_count": 11,
      "metadata": {
        "jupyter": {
          "source_hidden": false,
          "outputs_hidden": false
        },
        "nteract": {
          "transient": {
            "deleting": false
          }
        }
      }
    }
  ],
  "metadata": {
    "kernelspec": {
      "name": "synapse_pyspark",
      "language": "Python",
      "display_name": "Synapse PySpark"
    },
    "language_info": {
      "name": "python"
    },
    "kernel_info": {
      "name": "synapse_pyspark"
    },
    "description": null,
    "save_output": true,
    "synapse_widget": {
      "version": "0.1",
      "state": {}
    }
  },
  "nbformat": 4,
  "nbformat_minor": 2
}