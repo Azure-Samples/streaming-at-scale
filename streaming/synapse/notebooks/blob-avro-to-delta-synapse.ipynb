{
  "nbformat": 4,
  "nbformat_minor": 2,
  "metadata": {
    "kernelspec": {
      "name": "synapse_pyspark",
      "display_name": "Synapse PySpark"
    },
    "language_info": {
      "name": "python"
    },
    "description": null,
    "save_output": true,
    "synapse_widget": {
      "version": "0.1",
      "state": {}
    }
  },
  "cells": [
    {
      "cell_type": "code",
      "execution_count": 16,
      "outputs": [
        {
          "output_type": "display_data",
          "data": {
            "application/vnd.livy.statement-meta+json": {
              "spark_pool": "devsparkpool",
              "session_id": 3,
              "statement_id": 17,
              "state": "finished",
              "livy_statement_state": "available",
              "queued_time": "2022-06-03T18:38:36.6068912Z",
              "session_start_time": null,
              "execution_start_time": "2022-06-03T18:38:36.9902148Z",
              "execution_finish_time": "2022-06-03T18:38:38.1240541Z"
            },
            "text/plain": "StatementMeta(devsparkpool, 3, 17, Finished, Available)"
          },
          "metadata": {}
        }
      ],
      "metadata": {},
      "source": [
        "from delta.tables import DeltaTable\r\n",
        "import os\r\n",
        "from pyspark.sql.functions import col\r\n",
        "import pyspark.sql.types as T\r\n",
        "import pyspark.sql.functions as F\r\n",
        "\r\n",
        "file_path = '/capture/sassynapsergeventhubs/streamingatscale-2'"
      ]
    },
    {
      "cell_type": "code",
      "execution_count": 17,
      "outputs": [
        {
          "output_type": "display_data",
          "data": {
            "application/vnd.livy.statement-meta+json": {
              "spark_pool": "devsparkpool",
              "session_id": 3,
              "statement_id": 18,
              "state": "finished",
              "livy_statement_state": "available",
              "queued_time": "2022-06-03T18:38:38.0108919Z",
              "session_start_time": null,
              "execution_start_time": "2022-06-03T18:38:38.2308352Z",
              "execution_finish_time": "2022-06-03T18:38:38.4159143Z"
            },
            "text/plain": "StatementMeta(devsparkpool, 3, 18, Finished, Available)"
          },
          "metadata": {}
        }
      ],
      "metadata": {
        "jupyter": {
          "source_hidden": false,
          "outputs_hidden": false
        },
        "nteract": {
          "transient": {
            "deleting": false
          }
        }
      },
      "source": [
        "schema = T.StructType(\r\n",
        "    [\r\n",
        "        T.StructField('SequenceNumber', T.LongType(), False),\r\n",
        "        T.StructField('Offset', T.StringType(), False),\r\n",
        "        T.StructField('EnqueuedTimeUtc', T.StringType()),\r\n",
        "        T.StructField('SystemProperties', T.MapType(T.StringType(), T.StructType([\r\n",
        "            T.StructField('member0', T.LongType()),\r\n",
        "            T.StructField('member1', T.DoubleType()),\r\n",
        "            T.StructField('member2', T.StringType()),\r\n",
        "            T.StructField('member3', T.BinaryType()),\r\n",
        "        ]))),\r\n",
        "        T.StructField('Properties', T.MapType(T.StringType(), T.StructType([\r\n",
        "            T.StructField('member0', T.LongType()),\r\n",
        "            T.StructField('member1', T.DoubleType()),\r\n",
        "            T.StructField('member2', T.StringType()),\r\n",
        "            T.StructField('member3', T.BinaryType()),\r\n",
        "        ]))),\r\n",
        "        T.StructField('Body', T.BinaryType()),\r\n",
        "        T.StructField('date', T.DateType()),\r\n",
        "        T.StructField('hour', T.IntegerType()),\r\n",
        "    ]\r\n",
        ")"
      ]
    },
    {
      "cell_type": "code",
      "execution_count": 22,
      "outputs": [
        {
          "output_type": "display_data",
          "data": {
            "application/vnd.livy.statement-meta+json": {
              "spark_pool": "devsparkpool",
              "session_id": 3,
              "statement_id": 23,
              "state": "finished",
              "livy_statement_state": "available",
              "queued_time": "2022-06-03T18:44:50.6474778Z",
              "session_start_time": null,
              "execution_start_time": "2022-06-03T18:44:50.850377Z",
              "execution_finish_time": "2022-06-03T18:44:50.850622Z"
            },
            "text/plain": "StatementMeta(devsparkpool, 3, 23, Finished, Available)"
          },
          "metadata": {}
        }
      ],
      "metadata": {
        "jupyter": {
          "source_hidden": false,
          "outputs_hidden": false
        },
        "nteract": {
          "transient": {
            "deleting": false
          }
        }
      },
      "source": [
        "bodySchema = T.StructType([\r\n",
        "    T.StructField(\"eventId\", T.StringType(), False),\r\n",
        "    T.StructField(\"complexData\", T.StructType([ T.StructField(f\"moreData{i}\", T.DoubleType(), False) for i in range(22) ])),\r\n",
        "    T.StructField(\"value\", T.StringType(), False),\r\n",
        "    T.StructField(\"type\", T.StringType(), False),\r\n",
        "    T.StructField(\"deviceId\", T.StringType(), False),\r\n",
        "    T.StructField(\"deviceSequenceNumber\", T.LongType(), False),\r\n",
        "    T.StructField(\"createdAt\", T.TimestampType(), False)\r\n",
        "])"
      ]
    },
    {
      "cell_type": "code",
      "execution_count": 25,
      "outputs": [
        {
          "output_type": "display_data",
          "data": {
            "application/vnd.livy.statement-meta+json": {
              "spark_pool": "devsparkpool",
              "session_id": 3,
              "statement_id": 26,
              "state": "finished",
              "livy_statement_state": "available",
              "queued_time": "2022-06-03T18:45:51.8474015Z",
              "session_start_time": null,
              "execution_start_time": "2022-06-03T18:45:51.9885615Z",
              "execution_finish_time": "2022-06-03T18:45:53.7642945Z"
            },
            "text/plain": "StatementMeta(devsparkpool, 3, 26, Finished, Available)"
          },
          "metadata": {}
        },
        {
          "output_type": "display_data",
          "data": {
            "text/plain": "<pyspark.sql.streaming.StreamingQuery at 0x7f44a115b940>"
          },
          "metadata": {}
        }
      ],
      "metadata": {
        "jupyter": {
          "source_hidden": false,
          "outputs_hidden": false
        },
        "nteract": {
          "transient": {
            "deleting": false
          }
        }
      },
      "source": [
        "stream_df = read_stream = spark \\\r\n",
        "    .readStream \\\r\n",
        "    .schema(schema) \\\r\n",
        "    .format('avro') \\\r\n",
        "    .load(file_path)\r\n",
        "\r\n",
        "normalized_df = stream_df \\\r\n",
        "        .withColumn('storedAt', F.current_timestamp()) \\\r\n",
        "        .withColumn('enqueuedAt', F.to_timestamp('EnqueuedTimeUtc', 'M/d/y h:mm:ss a')) \\\r\n",
        "        .withColumn('Body', F.from_json(F.decode('Body', 'UTF-8'), bodySchema)) \\\r\n",
        "        .select(col('Body.*'), 'storedAt', 'enqueuedAt')\r\n",
        "\r\n",
        "schema_location = '/datalake'\r\n",
        "table_name = 'normalized.device'\r\n",
        "output_path = os.path.join(schema_location, 'normalized', 'streaming_device')\r\n",
        "checkpoint_path = os.path.join(schema_location, 'checkpoint', 'streaming_device_test')\r\n",
        "normalized_df \\\r\n",
        "    .writeStream \\\r\n",
        "    .outputMode(\"append\") \\\r\n",
        "    .format('delta') \\\r\n",
        "    .option('path', output_path) \\\r\n",
        "    .option(\"checkpointLocation\", checkpoint_path) \\\r\n",
        "    .trigger(once=True) \\\r\n",
        "    .start()"
      ]
    },
    {
      "cell_type": "code",
      "execution_count": null,
      "outputs": [],
      "metadata": {
        "jupyter": {
          "source_hidden": false,
          "outputs_hidden": false
        },
        "nteract": {
          "transient": {
            "deleting": false
          }
        }
      },
      "source": []
    }
  ]
}